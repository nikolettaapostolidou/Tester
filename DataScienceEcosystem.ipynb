{
 "cells": [
  {
   "cell_type": "markdown",
   "id": "cee0b281-51fa-4943-988e-40c2d155ca60",
   "metadata": {},
   "source": [
    "- **Exercise 1: Create a Jupyter Notebook**"
   ]
  },
  {
   "cell_type": "markdown",
   "id": "64515d43-fab0-4896-938b-af79532bb011",
   "metadata": {},
   "source": [
    "The created notebook can be seen on the upper left corner"
   ]
  },
  {
   "cell_type": "markdown",
   "id": "848b753d-fe99-4bf8-80b9-2786c1dac13e",
   "metadata": {},
   "source": [
    "- **Exercise 2: Create markdown cell with title of the notebook**"
   ]
  },
  {
   "cell_type": "markdown",
   "id": "07fed0fb-fe4c-4f37-befa-aa5057752dfa",
   "metadata": {
    "tags": []
   },
   "source": [
    "# Data Science Tools and Ecosystems"
   ]
  },
  {
   "cell_type": "markdown",
   "id": "a67df01c-6ba2-4cff-bee3-50e4030dcd4f",
   "metadata": {},
   "source": [
    "- **Exercise 3 - Create a markdown cell for an introduction**"
   ]
  },
  {
   "cell_type": "markdown",
   "id": "0b1f9569-13bc-49d2-8502-470fedb68e3a",
   "metadata": {
    "tags": []
   },
   "source": [
    "In this notebook, Data Science Tools and Ecosystem are summarized."
   ]
  },
  {
   "cell_type": "markdown",
   "id": "3242e0df-c198-4448-b475-fb1fc930f9c2",
   "metadata": {},
   "source": [
    "- **Exercise 10 - Insert a markdown cell to list Objectives**"
   ]
  },
  {
   "cell_type": "markdown",
   "id": "07efdf28-21ef-4a9d-a508-a5a077a3652f",
   "metadata": {},
   "source": [
    "**Objectives:**"
   ]
  },
  {
   "cell_type": "markdown",
   "id": "941a214d-fc0d-451c-84a8-4fa0cc2aaf61",
   "metadata": {},
   "source": [
    "- Data Science Languages\n",
    "- Data Science Developement tools\n",
    "- Data Science libraries"
   ]
  },
  {
   "cell_type": "markdown",
   "id": "0499f1fa-de38-47af-a579-797508c874a3",
   "metadata": {},
   "source": [
    "- **Exercise 4 - Create a markdown cell to list data science languages**"
   ]
  },
  {
   "cell_type": "markdown",
   "id": "b8844ef5-de17-4808-923e-8ecef83ecea2",
   "metadata": {},
   "source": [
    "Some of the popular languages that Data Scientists use are:"
   ]
  },
  {
   "cell_type": "markdown",
   "id": "34c1d695-3977-4e57-a5d5-ba92997d7d9d",
   "metadata": {},
   "source": [
    "1. Python\n",
    "2. R\n",
    "3. SQL\n",
    "4. Java\n",
    "5. Scala\n",
    "6. Julia\n",
    "7. C++\n",
    "8. Javascript"
   ]
  },
  {
   "cell_type": "markdown",
   "id": "7ec4a632-9656-4b4a-9f5a-d102590dac9e",
   "metadata": {},
   "source": [
    "- **Exercise 5 - Create a markdown cell to list data science libraries**"
   ]
  },
  {
   "cell_type": "markdown",
   "id": "4935039c-96ed-41fd-b141-aabf0c54137c",
   "metadata": {},
   "source": [
    "Some of the commonly used libraries used by Data Scientists include:"
   ]
  },
  {
   "cell_type": "markdown",
   "id": "a5ef91bf-ae10-4c72-8b03-f70cf19ae45d",
   "metadata": {},
   "source": [
    "1. Pandas\n",
    "2. NumPy\n",
    "3. TensorFlow\n",
    "4. SciPy\n",
    "5. Keras"
   ]
  },
  {
   "cell_type": "markdown",
   "id": "abfcb7ea-b994-4356-94db-59dacbb071ef",
   "metadata": {},
   "source": [
    "- **Exercise 6 - Create a markdown cell with a table of Data Science tools**"
   ]
  },
  {
   "cell_type": "markdown",
   "id": "b3d285de-d95d-4a32-96ce-199d86786dd7",
   "metadata": {},
   "source": [
    "| Data Science Tools |\n",
    "| ---------------- |\n",
    "| VS Code |\n",
    "| Jupyter Notebook |\n",
    "| Google Colab |"
   ]
  },
  {
   "cell_type": "markdown",
   "id": "e5f46b03-9374-4c10-8e65-569069202320",
   "metadata": {},
   "source": [
    "- **Exercise 7 - Create a markdown cell introducing arithmetic expression examples**"
   ]
  },
  {
   "cell_type": "markdown",
   "id": "e979c96c-6373-484f-a778-c3b6d7487f6e",
   "metadata": {},
   "source": [
    "### Below are a few examples of evaluating arithmetic expressions in Python"
   ]
  },
  {
   "cell_type": "markdown",
   "id": "d40feadc-9794-4b6c-8bef-908f485e18df",
   "metadata": {},
   "source": [
    "- **Exercise 8 - Create a code cell to multiply and add numbers**"
   ]
  },
  {
   "cell_type": "markdown",
   "id": "bb8e3e60-6f8a-40fb-ab0a-e7ae95a7a000",
   "metadata": {},
   "source": [
    "This a simple arithmetic expression to mutiply then add integers"
   ]
  },
  {
   "cell_type": "code",
   "execution_count": 2,
   "id": "78badf2c-9faf-4c10-ae75-8f703dd61b56",
   "metadata": {
    "tags": []
   },
   "outputs": [
    {
     "data": {
      "text/plain": [
       "17"
      ]
     },
     "execution_count": 2,
     "metadata": {},
     "output_type": "execute_result"
    }
   ],
   "source": [
    "(3*4)+5"
   ]
  },
  {
   "cell_type": "markdown",
   "id": "edb9a390-6d70-4efa-8dec-55337eba76a7",
   "metadata": {},
   "source": [
    "- **Exercise 9 - Create a code cell to convert minutes to hours**"
   ]
  },
  {
   "cell_type": "markdown",
   "id": "0107724f-c75b-429f-9a6d-bb0427226990",
   "metadata": {},
   "source": [
    "This will convert 200 minutes to hours by diving by 60"
   ]
  },
  {
   "cell_type": "code",
   "execution_count": 14,
   "id": "05505302-43b1-4458-a2df-b1b1a482d4ae",
   "metadata": {
    "tags": []
   },
   "outputs": [
    {
     "name": "stdout",
     "output_type": "stream",
     "text": [
      "200 minutes are 3.3333333333333335 hours\n"
     ]
    }
   ],
   "source": [
    "print( \"200 minutes are\" , 200/60 , \"hours\")"
   ]
  },
  {
   "cell_type": "markdown",
   "id": "533050ba-894f-442a-8292-77698d19d01e",
   "metadata": {},
   "source": [
    "- **Exercise 11 - Create a markdown cell to indicate the Author's name**"
   ]
  },
  {
   "cell_type": "markdown",
   "id": "d7be6301-17c2-430d-8666-1d890d384cad",
   "metadata": {},
   "source": [
    "## Author"
   ]
  },
  {
   "cell_type": "markdown",
   "id": "761827b1-0edd-42e4-8e20-99d2d4509516",
   "metadata": {},
   "source": [
    "Nikoletta Apostolidou"
   ]
  }
 ],
 "metadata": {
  "kernelspec": {
   "display_name": "Python",
   "language": "python",
   "name": "conda-env-python-py"
  },
  "language_info": {
   "codemirror_mode": {
    "name": "ipython",
    "version": 3
   },
   "file_extension": ".py",
   "mimetype": "text/x-python",
   "name": "python",
   "nbconvert_exporter": "python",
   "pygments_lexer": "ipython3",
   "version": "3.7.12"
  }
 },
 "nbformat": 4,
 "nbformat_minor": 5
}
